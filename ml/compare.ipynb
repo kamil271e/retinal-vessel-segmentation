{
 "cells": [
  {
   "cell_type": "markdown",
   "id": "13bf5b86-7ee9-40c2-b828-284f3b4605e4",
   "metadata": {},
   "source": [
    "### Load and prepare dataset"
   ]
  },
  {
   "cell_type": "code",
   "execution_count": 21,
   "id": "f2f8370b-3f6a-47c7-ad9c-ccd300640894",
   "metadata": {},
   "outputs": [],
   "source": [
    "import numpy as np\n",
    "import matplotlib.pyplot as plt\n",
    "import cv2\n",
    "import sys\n",
    "import time\n",
    "import seaborn as sns\n",
    "import pandas as pd\n",
    "import xgboost as xgb\n",
    "from preprocess import sectioning\n",
    "from feature_extraction import convert_to_feature_vec\n",
    "from sklearn.model_selection import train_test_split\n",
    "from sklearn.neighbors import KNeighborsClassifier\n",
    "from sklearn.tree import DecisionTreeClassifier\n",
    "from sklearn.svm import SVC\n",
    "from sklearn.naive_bayes import GaussianNB\n",
    "from sklearn.ensemble import RandomForestClassifier, AdaBoostClassifier, GradientBoostingClassifier\n",
    "from sklearn.linear_model import LogisticRegression\n",
    "from sklearn.metrics import classification_report, f1_score\n",
    "from sklearn.preprocessing import StandardScaler, MinMaxScaler\n",
    "sys.path.append('../')\n",
    "from load_images import load"
   ]
  },
  {
   "cell_type": "code",
   "execution_count": 3,
   "id": "0cce6751-7700-4514-a3ad-fa149405a802",
   "metadata": {},
   "outputs": [],
   "source": [
    "img_size = (512, 512)\n",
    "X, y, masks = load(img_size)"
   ]
  },
  {
   "cell_type": "code",
   "execution_count": 4,
   "id": "0723ce54-d0eb-46ea-a20e-1397b8a8c957",
   "metadata": {},
   "outputs": [],
   "source": [
    "n = 5\n",
    "num_img = 3\n",
    "sections, targets = sectioning(X, y, num_img, img_size, n)"
   ]
  },
  {
   "cell_type": "code",
   "execution_count": 5,
   "id": "3e23812a-872a-4e7a-8dfa-3dd6bfefa5c0",
   "metadata": {},
   "outputs": [],
   "source": [
    "section_features = convert_to_feature_vec(sections)\n",
    "X_train, X_test, y_train, y_test = train_test_split(section_features, targets, test_size=0.2, shuffle=True)"
   ]
  },
  {
   "cell_type": "markdown",
   "id": "b088167b-c76f-4d1c-9b21-fa972ef5aeea",
   "metadata": {},
   "source": [
    "### Train classifiers"
   ]
  },
  {
   "cell_type": "code",
   "execution_count": 6,
   "id": "1e84e3a0-66c1-4873-86a0-7a0939dfcf96",
   "metadata": {},
   "outputs": [],
   "source": [
    "f1_scores = {}\n",
    "# scaler = StandardScaler()\n",
    "scaler = MinMaxScaler()\n",
    "X_train = scaler.fit_transform(X_train)\n",
    "X_test = scaler.transform(X_test)"
   ]
  },
  {
   "cell_type": "markdown",
   "id": "dd101661-9085-4ee1-af47-ce07deb01be4",
   "metadata": {},
   "source": [
    "#### K-Nearest Neigbors\n"
   ]
  },
  {
   "cell_type": "code",
   "execution_count": 11,
   "id": "67b3ecf2-4b27-49ec-9b47-f5ed5b153b59",
   "metadata": {},
   "outputs": [],
   "source": [
    "knn = KNeighborsClassifier()\n",
    "knn.fit(X_train, y_train)\n",
    "f1_scores['knn'] = f1_score(y_test, knn.predict(X_test))"
   ]
  },
  {
   "cell_type": "markdown",
   "id": "9ed969b6-f7b4-45d7-8681-45604684bd16",
   "metadata": {},
   "source": [
    "#### Logistic Regression\n"
   ]
  },
  {
   "cell_type": "code",
   "execution_count": 12,
   "id": "9cf8dae4-ace6-4ef4-87bf-e5aaa6288a77",
   "metadata": {},
   "outputs": [],
   "source": [
    "logreg = LogisticRegression()\n",
    "logreg.fit(X_train, y_train)\n",
    "f1_scores['logreg'] = f1_score(y_test, logreg.predict(X_test))"
   ]
  },
  {
   "cell_type": "markdown",
   "id": "99005f10-f8aa-4c69-b5d7-98fbae21ff47",
   "metadata": {},
   "source": [
    "#### Naive Bayes\n"
   ]
  },
  {
   "cell_type": "code",
   "execution_count": 13,
   "id": "61226538-7e4a-4e3f-a4ee-89a63642edb2",
   "metadata": {},
   "outputs": [],
   "source": [
    "bayes = GaussianNB()\n",
    "bayes.fit(X_train, y_train)\n",
    "f1_scores['bayes'] = f1_score(y_test, bayes.predict(X_test))"
   ]
  },
  {
   "cell_type": "markdown",
   "id": "699e616c-e32b-4e9e-ae5a-88d8408627f7",
   "metadata": {},
   "source": [
    "#### AdaBoost\n"
   ]
  },
  {
   "cell_type": "code",
   "execution_count": 14,
   "id": "1a7eaa4b-4312-4eb8-8c8e-8aa41e143b87",
   "metadata": {},
   "outputs": [],
   "source": [
    "ada = AdaBoostClassifier()\n",
    "ada.fit(X_train, y_train)\n",
    "f1_scores['ada'] =  f1_score(y_test, ada.predict(X_test))"
   ]
  },
  {
   "cell_type": "markdown",
   "id": "70bb4c84-ba0f-40ca-ab00-8124606e1e8d",
   "metadata": {},
   "source": [
    "#### Gradient Boosting\n"
   ]
  },
  {
   "cell_type": "code",
   "execution_count": 15,
   "id": "fa88fe9e-ec5f-4c6e-85d0-912f06b087cf",
   "metadata": {},
   "outputs": [],
   "source": [
    "gbc = GradientBoostingClassifier()\n",
    "gbc.fit(X_train, y_train)\n",
    "f1_scores['gbc'] = f1_score(y_test, gbc.predict(X_test))"
   ]
  },
  {
   "cell_type": "markdown",
   "id": "72068b73-feeb-4789-aed5-1c0961d74df2",
   "metadata": {},
   "source": [
    "#### Random Forest"
   ]
  },
  {
   "cell_type": "code",
   "execution_count": 16,
   "id": "923a47a7-14b7-44ce-8d0b-c27d50057a76",
   "metadata": {},
   "outputs": [],
   "source": [
    "forest_clf = RandomForestClassifier()\n",
    "forest_clf.fit(X_train, y_train)\n",
    "f1_scores['forest'] = f1_score(y_test, forest_clf.predict(X_test))"
   ]
  },
  {
   "cell_type": "markdown",
   "id": "7b6e83ee-9fc8-4351-be4f-acbba7af58e1",
   "metadata": {},
   "source": [
    "#### XGBoost"
   ]
  },
  {
   "cell_type": "code",
   "execution_count": 22,
   "id": "05529e15-68a8-4fc3-9e10-85bbdbe395d6",
   "metadata": {},
   "outputs": [],
   "source": [
    "xgb_clf = xgb.XGBClassifier()\n",
    "xgb_clf.fit(X_train, y_train)\n",
    "f1_scores['xgb'] = f1_score(y_test, xgb_clf.predict(X_test))"
   ]
  },
  {
   "cell_type": "markdown",
   "id": "03056649-0f9c-469c-b024-5887b8b11152",
   "metadata": {},
   "source": [
    "### Results"
   ]
  },
  {
   "cell_type": "code",
   "execution_count": 23,
   "id": "a9677008-aa5e-4b6d-8c29-ddf8b5758a4a",
   "metadata": {},
   "outputs": [
    {
     "data": {
      "image/png": "[encoded data removed]",
      "text/plain": [
       "<Figure size 640x480 with 1 Axes>"
      ]
     },
     "metadata": {},
     "output_type": "display_data"
    }
   ],
   "source": [
    "df = pd.DataFrame.from_dict(f1_scores, orient='index', columns=['F1 Score'])\n",
    "df.reset_index(inplace=True)\n",
    "df.rename(columns={'index': 'Classifier'}, inplace=True)\n",
    "sns.barplot(data=df, x='Classifier', y='F1 Score')\n",
    "plt.xlabel('Classifier')\n",
    "plt.ylabel('F1 Score')\n",
    "plt.title('F1 Scores of Classifiers')\n",
    "plt.show()"
   ]
  },
  {
   "cell_type": "markdown",
   "id": "5acbdbdc-aeba-4579-9f21-4044e6e40526",
   "metadata": {},
   "source": [
    "Based on few tests it looks like XGBoost outperforms other classifiers."
   ]
  }
 ],
 "metadata": {
  "kernelspec": {
   "display_name": "Python 3 (ipykernel)",
   "language": "python",
   "name": "python3"
  },
  "language_info": {
   "codemirror_mode": {
    "name": "ipython",
    "version": 3
   },
   "file_extension": ".py",
   "mimetype": "text/x-python",
   "name": "python",
   "nbconvert_exporter": "python",
   "pygments_lexer": "ipython3",
   "version": "3.10.11"
  }
 },
 "nbformat": 4,
 "nbformat_minor": 5
}
